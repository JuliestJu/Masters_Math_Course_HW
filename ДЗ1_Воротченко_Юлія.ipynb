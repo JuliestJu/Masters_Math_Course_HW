{
  "nbformat": 4,
  "nbformat_minor": 0,
  "metadata": {
    "colab": {
      "provenance": []
    },
    "kernelspec": {
      "name": "python3",
      "display_name": "Python 3"
    },
    "language_info": {
      "name": "python"
    }
  },
  "cells": [
    {
      "cell_type": "markdown",
      "source": [
        "# Нагадування по Markdown"
      ],
      "metadata": {
        "id": "mbmam7xBKWRj"
      }
    },
    {
      "cell_type": "markdown",
      "source": [
        "Надаємо невелике нагадування записів в\n",
        "[Markdown](https://colab.research.google.com/notebooks/markdown_guide.ipynb) (LaTeX):\n",
        "\n",
        "Markdown | Preview\n",
        "--- | ---\n",
        "`**bold text**` | **bold text**\n",
        " \\\\$\\frac{x}{y}\\\\$ | $\\frac{x}{y}$\n",
        " \\\\$p^{x}_{y}\\\\$ | $p^{x}_{y}$\n",
        "\\\\$x \\cdot y\\\\$ | $x \\cdot y$\n",
        "\\\\$\\sqrt{x}\\\\$ | $\\sqrt{x}$\n",
        "\\\\$\\pi\\\\$ | $\\pi$\n",
        "\\\\$\\approx\\\\$ | $\\approx$\n",
        "\n",
        "І ще декілька прикладів:\n",
        "\n",
        "```markdown\n",
        "$y=x^2$\n",
        "\n",
        "$e^{i\\pi} + 1 = 0$\n",
        "\n",
        "$e^x=\\sum_{i=0}^\\infty \\frac{1}{i!}x^i$\n",
        "\n",
        "$\\frac{n!}{k!(n-k)!} = {n \\choose k}$\n",
        "\n",
        "$A_{m,n} =\n",
        " \\begin{pmatrix}\n",
        "  a_{1,1} & a_{1,2} & \\cdots & a_{1,n} \\\\\n",
        "  a_{2,1} & a_{2,2} & \\cdots & a_{2,n} \\\\\n",
        "  \\vdots  & \\vdots  & \\ddots & \\vdots  \\\\\n",
        "  a_{m,1} & a_{m,2} & \\cdots & a_{m,n}\n",
        " \\end{pmatrix}$\n",
        "\n",
        " $$\n",
        " I =\n",
        " \\left (\\begin{array}{cc}\n",
        " 1 & 0\\\\\n",
        " 0 & 1\n",
        " \\end{array}\\right)\n",
        " $$\n",
        "```\n",
        "\n",
        "$y=x^2$\n",
        "\n",
        "$e^{i\\pi} + 1 = 0$\n",
        "\n",
        "$e^x=\\sum_{i=0}^\\infty \\frac{1}{i!}x^i$\n",
        "\n",
        "$\\frac{n!}{k!(n-k)!} = {n \\choose k}$\n",
        "\n",
        "$A_{m,n} =\n",
        " \\begin{pmatrix}\n",
        "  a_{1,1} & a_{1,2} & \\cdots & a_{1,n} \\\\\n",
        "  a_{2,1} & a_{2,2} & \\cdots & a_{2,n} \\\\\n",
        "  \\vdots  & \\vdots  & \\ddots & \\vdots  \\\\\n",
        "  a_{m,1} & a_{m,2} & \\cdots & a_{m,n}\n",
        " \\end{pmatrix}$\n",
        "\n",
        "$I =\n",
        "\\left (\\begin{array}{cc}\n",
        "1 & 0\\\\\n",
        "0 & 1\n",
        "\\end{array}\\right)$\n",
        " ---"
      ],
      "metadata": {
        "id": "WKbf0DcrKYHi"
      }
    },
    {
      "cell_type": "markdown",
      "source": [
        "# Завдання 1.\n",
        "В шаблоні наведені числові вектори $\\overline{a}$ та $\\overline{b}$. Порахуй наступне:\n",
        "- сума $\\overline{a}$ та $\\overline{b}$\n",
        "- різниця $\\overline{a}$ та $\\overline{b}$\n",
        "- сума $\\overline{a}$ та $\\overline{b}^T$. Поясни отриманий результат.\n",
        "- матричний добуток (dot product) $\\overline{a}$ та $\\overline{b}^T$.\n",
        "- матричний добуток (dot product) $\\overline{a}$ та $\\overline{b}$. Поясни отриманий результат.\n",
        "- добуток Адамара (Hadamard product) $\\overline{a}$ та $\\overline{b}$. Поясни отриманий результат.\n",
        "- ділення $\\overline{a}$ та $\\overline{b}$. Поясни отриманий результат.\n",
        "- ділення $\\overline{a}$ та $\\overline{b}^T$. Поясни отриманий результат."
      ],
      "metadata": {
        "id": "AQsl6FeF0Sq3"
      }
    },
    {
      "cell_type": "code",
      "source": [
        "import numpy as np\n",
        "\n",
        "a = np.array([[1, 2, 3, 4, 5]])\n",
        "b = np.array([[1/2, 1, 2, 3, 4]])\n",
        "\n",
        "res = a + b\n",
        "\n",
        "print(res)"
      ],
      "metadata": {
        "id": "-TcDgKRB0n-s",
        "outputId": "870b596a-e4b9-46d9-b59e-16a5bfe5ffdd",
        "colab": {
          "base_uri": "https://localhost:8080/"
        }
      },
      "execution_count": null,
      "outputs": [
        {
          "output_type": "stream",
          "name": "stdout",
          "text": [
            "[[1.5 3.  5.  7.  9. ]]\n"
          ]
        }
      ]
    },
    {
      "cell_type": "code",
      "source": [
        "import numpy as np\n",
        "\n",
        "a = np.array([[1, 2, 3, 4, 5]])\n",
        "b = np.array([[1/2, 1, 2, 3, 4]])\n",
        "\n",
        "res = a - b\n",
        "\n",
        "res"
      ],
      "metadata": {
        "id": "CcIk7MVQ1xgq",
        "outputId": "9d27701b-c512-4709-be08-88efbdf3650a",
        "colab": {
          "base_uri": "https://localhost:8080/"
        }
      },
      "execution_count": null,
      "outputs": [
        {
          "output_type": "execute_result",
          "data": {
            "text/plain": [
              "array([[0.5, 1. , 1. , 1. , 1. ]])"
            ]
          },
          "metadata": {},
          "execution_count": 6
        }
      ]
    },
    {
      "cell_type": "code",
      "source": [
        "import numpy as np\n",
        "\n",
        "a = np.array([[1, 2, 3, 4, 5]])\n",
        "b = np.array([[1/2, 1, 2, 3, 4]])\n",
        "\n",
        "b_transposed = np.transpose(b)\n",
        "\n",
        "res = a + b_transposed\n",
        "print(res)"
      ],
      "metadata": {
        "id": "exb6q60N0uFv",
        "outputId": "97555c56-48c6-4a6f-c6f7-28ddd5bca2ec",
        "colab": {
          "base_uri": "https://localhost:8080/"
        }
      },
      "execution_count": null,
      "outputs": [
        {
          "output_type": "stream",
          "name": "stdout",
          "text": [
            "[[1.5 2.5 3.5 4.5 5.5]\n",
            " [2.  3.  4.  5.  6. ]\n",
            " [3.  4.  5.  6.  7. ]\n",
            " [4.  5.  6.  7.  8. ]\n",
            " [5.  6.  7.  8.  9. ]]\n"
          ]
        }
      ]
    },
    {
      "cell_type": "markdown",
      "source": [
        "\n",
        "У бібліотеці numpy, при виконанні операцій, таких як додавання, над масивами\n",
        "з різними формами, numpy автоматично розгортає масиви, щоб зробити їх сумісними\n",
        "для операції. Це називається трансляцією.\n",
        "\n",
        "Трансляція працює шляхом розтягнення або дублювання значень масивів вздовж\n",
        "відсутніх розмірностей так, щоб вони відповідали формі іншого масиву.\n",
        "\n",
        "Після трансляції обидва масиви матимуть форму 5x5, і numpy буде виконувати\n",
        "елементне додавання:\n",
        "\n",
        "```\n",
        "a = [[1, 2, 3, 4, 5],    b_transposed = [[1/2, 1/2, 1/2, 1/2, 1/2],\n",
        "     [1, 2, 3, 4, 5],                     [1, 1, 1, 1, 1],\n",
        "     [1, 2, 3, 4, 5],                     [2, 2, 2, 2, 2],\n",
        "     [1, 2, 3, 4, 5],                     [3, 3, 3, 3, 3],\n",
        "     [1, 2, 3, 4, 5]]                     [4, 4, 4, 4, 4]]\n",
        "```\n",
        "\n",
        "Тепер numpy просто додасть відповідні елементи a та b_transposed"
      ],
      "metadata": {
        "id": "P_0onALhuLSC"
      }
    },
    {
      "cell_type": "code",
      "source": [
        "import numpy as np\n",
        "\n",
        "a = np.array([[1, 2, 3, 4, 5]])\n",
        "b = np.array([[1/2, 1, 2, 3, 4]])\n",
        "\n",
        "b_transposed = np.transpose(b)\n",
        "\n",
        "res = np.dot(a, b_transposed)\n",
        "res"
      ],
      "metadata": {
        "id": "oZB7Kx5_1c29",
        "colab": {
          "base_uri": "https://localhost:8080/"
        },
        "outputId": "7f4aa215-c646-4ded-db21-dc4cc1cad6a3"
      },
      "execution_count": null,
      "outputs": [
        {
          "output_type": "execute_result",
          "data": {
            "text/plain": [
              "array([[40.5]])"
            ]
          },
          "metadata": {},
          "execution_count": 6
        }
      ]
    },
    {
      "cell_type": "markdown",
      "source": [
        "Оскільки a має форму (1, 5), а b_transposed має форму (5, 1) після транспонування b, їх форми сумісні для множення матриць. Операція скалярного добутку результатує у скалярне значення, а не матрицю, оскільки результат множення рядкового вектора на стовпчиковий вектор - це одне скалярне значення.\n",
        "\n",
        "Отже, у цьому випадку numpy не буде виконувати трансляцію, і операція скалярного добутку буде виконуватися так, як очікувалося, результатом буде скалярне значення."
      ],
      "metadata": {
        "id": "02AhIIHUwXMD"
      }
    },
    {
      "cell_type": "code",
      "source": [
        "import numpy as np\n",
        "\n",
        "a = np.array([[1, 2, 3, 4, 5]])\n",
        "b = np.array([[1/2, 1, 2, 3, 4]])\n",
        "\n",
        "res = np.dot(a, b)\n",
        "res"
      ],
      "metadata": {
        "id": "PbRyd3630xud"
      },
      "execution_count": null,
      "outputs": []
    },
    {
      "cell_type": "markdown",
      "source": [
        "Щоб виконати скалярний добуток двох матриць за допомогою функції np.dot() бібліотеки numpy, матриці повинні бути сумісними для множення матриць. Це означає, що кількість стовпців у першій матриці повинна бути рівною кількості рядків у другій матриці.\n",
        "\n",
        "У наданому прикладі матриця a має форму (1, 5), а матриця b має форму (1, 5). Скалярний добуток між цими двома матрицями неможливий, оскільки кількість стовпців у a (5) не відповідає кількості рядків у b (1).\n",
        "\n",
        "Оскільки форми a та b не можуть бути транслювані для забезпечення сумісності для множення матриць, numpy викине ValueError, вказавши, що форми не вирівняні для операції скалярного добутку."
      ],
      "metadata": {
        "id": "30dLWOdDxVyM"
      }
    },
    {
      "cell_type": "code",
      "source": [
        "a = np.array([[1, 2, 3, 4, 5]])\n",
        "b = np.array([[1/2, 1, 2, 3, 4]])\n",
        "\n",
        "res = a * b\n",
        "res"
      ],
      "metadata": {
        "id": "QPHTXr83ly7o"
      },
      "execution_count": null,
      "outputs": []
    },
    {
      "cell_type": "markdown",
      "source": [
        "Добуток Aдамара, також відомий як елементне множення, - це операція, яка виконується над двома матрицями з однаковими розмірами в бібліотеці NumPy. При цьому кожен елемент результуючої матриці є добутком відповідних елементів вихідних матриць. У NumPy цю операцію можна виконати швидко та ефективно за допомогою оператора *."
      ],
      "metadata": {
        "id": "ZU48aljW2bk6"
      }
    },
    {
      "cell_type": "code",
      "source": [
        "import numpy as np\n",
        "\n",
        "a = np.array([[1, 2, 3, 4, 5]])\n",
        "b = np.array([[1/2, 1, 2, 3, 4]])\n",
        "\n",
        "res = a / b\n",
        "res"
      ],
      "metadata": {
        "id": "9mAIEbkQ1pJH",
        "colab": {
          "base_uri": "https://localhost:8080/"
        },
        "outputId": "5f7646f8-a71a-48a4-9a1a-33b631c6b884"
      },
      "execution_count": null,
      "outputs": [
        {
          "output_type": "execute_result",
          "data": {
            "text/plain": [
              "array([[2.        , 2.        , 1.5       , 1.33333333, 1.25      ]])"
            ]
          },
          "metadata": {},
          "execution_count": 13
        }
      ]
    },
    {
      "cell_type": "markdown",
      "source": [
        "Обидві матриці мають розмірність 1x5. Операція елементного ділення проводиться покоординатно: кожний елемент матриці a ділиться на відповідний елемент матриці\n",
        "b. Результат цієї операції - нова матриця res, яка також має розмірність 1x5, і в якій кожен елемент - результат ділення відповідних елементів матриць та b."
      ],
      "metadata": {
        "id": "XI3K7IW34Rmy"
      }
    },
    {
      "cell_type": "code",
      "source": [
        "import numpy as np\n",
        "\n",
        "a = np.array([[1, 2, 3, 4, 5]])\n",
        "b = np.array([[1/2, 1, 2, 3, 4]])\n",
        "\n",
        "b_transposed = np.transpose(b)\n",
        "res = a / b_transposed\n",
        "res"
      ],
      "metadata": {
        "id": "pozfWRdc1qF9",
        "colab": {
          "base_uri": "https://localhost:8080/"
        },
        "outputId": "3858631c-2ef4-4209-c4d4-3dbf222929bc"
      },
      "execution_count": null,
      "outputs": [
        {
          "output_type": "execute_result",
          "data": {
            "text/plain": [
              "array([[ 2.        ,  4.        ,  6.        ,  8.        , 10.        ],\n",
              "       [ 1.        ,  2.        ,  3.        ,  4.        ,  5.        ],\n",
              "       [ 0.5       ,  1.        ,  1.5       ,  2.        ,  2.5       ],\n",
              "       [ 0.33333333,  0.66666667,  1.        ,  1.33333333,  1.66666667],\n",
              "       [ 0.25      ,  0.5       ,  0.75      ,  1.        ,  1.25      ]])"
            ]
          },
          "metadata": {},
          "execution_count": 1
        }
      ]
    },
    {
      "cell_type": "markdown",
      "source": [
        "NumPy автоматично розширює масив a для відповідності розмірності з масивом b_transposed, який має розмірність (5, 1), тобто він має одну колонку, але п'ять рядків. При цьому розширенні NumPy копіює рядки a, щоб вони відповідали кількості рядків у b_transposed.\n",
        "\n",
        "Отже, операція ділення виконується поелементно між розширеними a та b_transposed, що призводить до отримання результуючої матриці розмірністю (5, 5)"
      ],
      "metadata": {
        "id": "2XAnODVVfvT-"
      }
    },
    {
      "cell_type": "markdown",
      "source": [
        "# Завдання 2\n",
        "В цьому завданні ти навчишся перетворювати вектори за допомогою афінних перетворень.  \n",
        "Дано вектор:\n",
        "$$\n",
        "x =\n",
        "\\left(\\begin{array}{cc}\n",
        "2\\\\\n",
        "1\n",
        "\\end{array}\\right)\n",
        "$$\n",
        "\n",
        "\n",
        "Виконай аналітично наступні завдання задавши матрицю перетворення та застосуй її до вектора $x$:\n",
        "\n",
        "1. Зменши вектор $x$ в 2 рази по вісі $OX$ та збільш в 3 рази по вісі $OY$.\n",
        "2. Відобрази вектор $x$ відносно початку координат.\n",
        "3. Перенеси вектор $x$ на -3 по вісі $OX$ та на 1 по вісі $OY$.\n",
        "4. Змісти вектор $x$ на 60° по вісі $OY$.\n",
        "5. Поверни вектор $x$ на 30°.\n",
        "6. Об'єднай перетворення з кроків 1, 2, 4, 5 в одну матрицю та застосуй її до вектору $x$."
      ],
      "metadata": {
        "id": "W-FFJ2oK0TTF"
      }
    },
    {
      "cell_type": "markdown",
      "source": [],
      "metadata": {
        "id": "coRcpu8kgMqh"
      }
    },
    {
      "cell_type": "markdown",
      "source": [],
      "metadata": {
        "id": "P40cpqH8u2xZ"
      }
    },
    {
      "cell_type": "markdown",
      "source": [
        "#### 2.1 Зменши вектор  $x$  в 2 рази по вісі  OX  та збільш в 3 рази по вісі  OY ."
      ],
      "metadata": {
        "id": "6G4BWKMB33NV"
      }
    },
    {
      "cell_type": "markdown",
      "source": [
        "$$\n",
        "M_1 = \\left (\\begin{array}{cc}\n",
        "0.5 & 0\\\\\n",
        "0 & 3\n",
        "\\end{array}\\right)\n",
        "\\\\\n",
        "M_1x = \\left (\\begin{array}{cc}\n",
        "1\\\\\n",
        "3\n",
        "\\end{array}\\right)\n",
        "\\\\\n",
        "$$"
      ],
      "metadata": {
        "id": "ReNhrKCOvHTc"
      }
    },
    {
      "cell_type": "markdown",
      "source": [
        "#### 2.2 Відобрази вектор $x$ відносно початку координат."
      ],
      "metadata": {
        "id": "Rlhpc8-24M9k"
      }
    },
    {
      "cell_type": "markdown",
      "source": [
        "$$\n",
        "M_2 = \\left (\\begin{array}{cc}\n",
        "-1 & 0\\\\\n",
        "0 & -1\n",
        "\\end{array}\\right)\n",
        "\\\\\n",
        "M_2x = \\left (\\begin{array}{cc}\n",
        "-2\\\\\n",
        "-1\n",
        "\\end{array}\\right)\n",
        "\\\\\n",
        "$$\n",
        "\n"
      ],
      "metadata": {
        "id": "35Ld0CHYgsXY"
      }
    },
    {
      "cell_type": "markdown",
      "source": [
        "#### 2.3 Перенеси вектор $x$ на -3 по вісі $OX$ та на 1 по вісі $OY$."
      ],
      "metadata": {
        "id": "V5AiNUx14MvZ"
      }
    },
    {
      "cell_type": "markdown",
      "source": [
        "$$\n",
        "M_3 = \\left (\\begin{array}{cc}\n",
        "1 & 0 & -3\\\\\n",
        "0 & 1 & 1\\\\\n",
        "0 & 0 & 1\n",
        "\\end{array}\\right)\n",
        "\\\\\n",
        "\\\\\n",
        "M_3x = \\left (\\begin{array}{cc}\n",
        "-1\\\\\n",
        "2\n",
        "\\end{array}\\right)\n",
        "\\\\\n",
        "$$"
      ],
      "metadata": {
        "id": "qtzBmsNcgpQA"
      }
    },
    {
      "cell_type": "markdown",
      "source": [
        "#### 2.4 Змісти вектор $a$ на 60° по вісі $OY$.\n"
      ],
      "metadata": {
        "id": "VfjTQ4li9Neq"
      }
    },
    {
      "cell_type": "markdown",
      "source": [
        "$$\n",
        "M_4 = \\left (\\begin{array}{cc}\n",
        "1 & 0\\\\\n",
        "\\sqrt{3} & 1\n",
        "\\end{array}\\right)\n",
        "\\\\\n",
        "\\\\\n",
        "M_4x = \\left (\\begin{array}{cc}\n",
        "2 + \\sqrt{3}\\\\\n",
        "1\n",
        "\\end{array}\\right)\n",
        "\\\\\n",
        "$$"
      ],
      "metadata": {
        "id": "1-0_aTZiglze"
      }
    },
    {
      "cell_type": "markdown",
      "source": [
        "#### 2.5 Поверни вектор $a$ на 30°."
      ],
      "metadata": {
        "id": "F5dbVgGr9RCD"
      }
    },
    {
      "cell_type": "markdown",
      "source": [
        "$$\n",
        "M_5 = \\left (\\begin{array}{cc}\n",
        "\\frac{\\sqrt{3}}{2} & -\\frac{1}{2}\\\\\n",
        "\\frac{1}{2} & \\frac{\\sqrt{3}}{2}\n",
        "\\end{array}\\right)\n",
        "\\\\\n",
        "\\\\\n",
        "M_5x = \\left (\\begin{array}{cc}\n",
        "\\sqrt{3} - \\frac{1}{2}\\\\\n",
        "\\frac{1}{2} + \\sqrt{3}\n",
        "\\end{array}\\right)\n",
        "\\\\\n",
        "$$"
      ],
      "metadata": {
        "id": "ABCk4cPhg2Zp"
      }
    },
    {
      "cell_type": "markdown",
      "source": [
        "#### 2.6 Об'єднай перетворення з кроків 1, 2, 4, 5 в одну матрицю та застосуй її до вектору $x$"
      ],
      "metadata": {
        "id": "nXJQVzee9RTp"
      }
    },
    {
      "cell_type": "markdown",
      "source": [
        "$$\n",
        "M_6 = M_5 \\cdot M_4 \\cdot M_2 \\cdot M_1 = ?\n",
        "$$"
      ],
      "metadata": {
        "id": "NzEYWaaZHUGm"
      }
    },
    {
      "cell_type": "markdown",
      "source": [
        "$$\n",
        "M_6 =\n",
        "\\left (\\begin{array}{cc}\n",
        "0 & 1\\frac{1}{2}\\\\\\\n",
        "1 & \\frac{-3\\sqrt{3}}{2}\n",
        "\\end{array}\\right)\n",
        "\\\\\n",
        "M_6x = \\left (\\begin{array}{cc}\n",
        "-1.4\\\\\n",
        "-4.59808\n",
        "\\end{array}\\right)\n",
        "$$"
      ],
      "metadata": {
        "id": "483K8PxWY0Na"
      }
    },
    {
      "cell_type": "markdown",
      "source": [
        "# Завдання 2 (Альтернативне)"
      ],
      "metadata": {
        "id": "4Hskh6fFb89N"
      }
    },
    {
      "cell_type": "code",
      "source": [
        "import cv2 as cv\n",
        "import urllib\n",
        "import numpy as np\n",
        "\n",
        "#   Функція для створення матриці перетворення з масштабуванням\n",
        "\n",
        "def scaling_matrix(scale_x, scale_y):\n",
        "    return np.array([[scale_x, 0], [0, scale_y]])\n",
        "\n",
        "#   Функція для створення матриці перетворення з обертанням на кут angle\n",
        "# у градусах\n",
        "\n",
        "def rotation_matrix(angle):\n",
        "    angle_rad = np.radians(angle)\n",
        "    cos_theta = np.cos(angle_rad)\n",
        "    sin_theta = np.sin(angle_rad)\n",
        "    return np.array([[cos_theta, -sin_theta], [sin_theta, cos_theta]])\n",
        "\n",
        "#   Функція для створення матриці горизонтального зсуву кут angle\n",
        "# у градусах\n",
        "def vertical_shift_matrix(shift_angle):\n",
        "    angle_rad = np.radians(shift_angle)\n",
        "    tan_theta = np.tan(angle_rad)\n",
        "    return np.array([[1, 0], [tan_theta, 1]])\n",
        "\n",
        "# Функція для створення матриці перетворення з переміщенням на dx по X і dy по Y\n",
        "def translation_matrix(dx, dy):\n",
        "    return np.array([[1, 0, dx], [0, 1, dy]])\n",
        "\n",
        "# Вектор x\n",
        "\n",
        "x = np.array([[2], [1]])\n",
        "\n",
        "#   Задання матриці для зменшення в 2 рази по вісі OX та збільшення\n",
        "# в 3 рази по вісі OY\n",
        "\n",
        "scaling_matrix_M1 = scaling_matrix(0.5, 3)\n",
        "\n",
        "# Задання матриці для відображення відносно початку координат\n",
        "reflection_matrix_M2 = np.array([[-1, 0], [0, -1]])\n",
        "\n",
        "# Задання матриці для повороту на 60° по вісі OY\n",
        "vertical_shift_matrix_1_M4 = vertical_shift_matrix(60)\n",
        "\n",
        "# Задання матриці для повернення на 30°\n",
        "rotation_matrix_2_M5 = rotation_matrix(30)\n",
        "\n",
        "# Об'єднання матриць перетворень\n",
        "combined_matrix = rotation_matrix_2_M5 @ vertical_shift_matrix_1_M4 @ reflection_matrix_M2 @ scaling_matrix_M1\n",
        "\n",
        "# Застосування об'єднаної матриці перетворення до вектора x\n",
        "transformed_x = combined_matrix @ x\n",
        "\n",
        "# Виведення результату\n",
        "print(\"Transformed x:\")\n",
        "print(transformed_x)"
      ],
      "metadata": {
        "id": "T9X-m9XvdlPK",
        "colab": {
          "base_uri": "https://localhost:8080/"
        },
        "outputId": "1a40a8e1-449f-4d2c-a302-0b9c9dc599ef"
      },
      "execution_count": null,
      "outputs": [
        {
          "output_type": "stream",
          "name": "stdout",
          "text": [
            "Transformed x:\n",
            "[[ 1.5       ]\n",
            " [-4.59807621]]\n"
          ]
        }
      ]
    }
  ]
}